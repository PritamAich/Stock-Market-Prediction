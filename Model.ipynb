{
  "nbformat": 4,
  "nbformat_minor": 0,
  "metadata": {
    "orig_nbformat": 2,
    "kernelspec": {
      "name": "python3",
      "display_name": "Python 3"
    },
    "colab": {
      "name": "Model.ipynb",
      "provenance": [],
      "collapsed_sections": []
    },
    "accelerator": "GPU"
  },
  "cells": [
    {
      "cell_type": "markdown",
      "metadata": {
        "id": "sOWckTtIJkrc"
      },
      "source": [
        "### Goal:\n",
        "\n",
        "#### Here, we will try to predict one year of stock price of Microsoft."
      ]
    },
    {
      "cell_type": "markdown",
      "metadata": {
        "id": "HKv5WU80JITM"
      },
      "source": [
        "##### **The profit or loss calculation is usually determined by the closing price of a stock for the day, hence we will consider the closing price as the target variable.**"
      ]
    },
    {
      "cell_type": "markdown",
      "metadata": {
        "id": "v-LjSbN0Jkre"
      },
      "source": [
        "## Importing basic libraries"
      ]
    },
    {
      "cell_type": "code",
      "metadata": {
        "id": "mr0_Mt-cJkre"
      },
      "source": [
        "import pandas as pd\n",
        "import numpy as np\n",
        "import matplotlib.pyplot as plt\n",
        "import seaborn as sns\n",
        "import warnings\n",
        "from sklearn.metrics import mean_squared_error \n",
        "\n",
        "warnings.filterwarnings('ignore')\n",
        "\n",
        "sns.set_style('whitegrid')"
      ],
      "execution_count": 1,
      "outputs": []
    },
    {
      "cell_type": "markdown",
      "metadata": {
        "id": "vToNfiX0Jkri"
      },
      "source": [
        "## Collecting data"
      ]
    },
    {
      "cell_type": "code",
      "metadata": {
        "id": "_rP7OZfeJkri"
      },
      "source": [
        "data = pd.read_csv('MSFT_Stock_Market_final_data.csv', parse_dates= True, index_col = 'Date')"
      ],
      "execution_count": 2,
      "outputs": []
    },
    {
      "cell_type": "code",
      "metadata": {
        "id": "7G8CbnRIJkrl",
        "outputId": "b24dbfba-193c-4cf8-b89e-c58e33cccf22",
        "colab": {
          "base_uri": "https://localhost:8080/",
          "height": 329
        }
      },
      "source": [
        "new_data = data.copy()\n",
        "new_data.head()"
      ],
      "execution_count": 3,
      "outputs": [
        {
          "output_type": "execute_result",
          "data": {
            "text/html": [
              "<div>\n",
              "<style scoped>\n",
              "    .dataframe tbody tr th:only-of-type {\n",
              "        vertical-align: middle;\n",
              "    }\n",
              "\n",
              "    .dataframe tbody tr th {\n",
              "        vertical-align: top;\n",
              "    }\n",
              "\n",
              "    .dataframe thead th {\n",
              "        text-align: right;\n",
              "    }\n",
              "</style>\n",
              "<table border=\"1\" class=\"dataframe\">\n",
              "  <thead>\n",
              "    <tr style=\"text-align: right;\">\n",
              "      <th></th>\n",
              "      <th>Close</th>\n",
              "      <th>Year</th>\n",
              "      <th>Month</th>\n",
              "      <th>Week</th>\n",
              "      <th>Day</th>\n",
              "      <th>Dayofweek</th>\n",
              "      <th>Dayofyear</th>\n",
              "      <th>Is_month_end</th>\n",
              "      <th>Is_month_start</th>\n",
              "      <th>Is_quarter_end</th>\n",
              "      <th>Is_quarter_start</th>\n",
              "      <th>Is_year_end</th>\n",
              "      <th>Is_year_start</th>\n",
              "      <th>Monthly_moving_average</th>\n",
              "      <th>Expanding_mean</th>\n",
              "    </tr>\n",
              "    <tr>\n",
              "      <th>Date</th>\n",
              "      <th></th>\n",
              "      <th></th>\n",
              "      <th></th>\n",
              "      <th></th>\n",
              "      <th></th>\n",
              "      <th></th>\n",
              "      <th></th>\n",
              "      <th></th>\n",
              "      <th></th>\n",
              "      <th></th>\n",
              "      <th></th>\n",
              "      <th></th>\n",
              "      <th></th>\n",
              "      <th></th>\n",
              "      <th></th>\n",
              "    </tr>\n",
              "  </thead>\n",
              "  <tbody>\n",
              "    <tr>\n",
              "      <th>2012-01-03</th>\n",
              "      <td>26.76</td>\n",
              "      <td>2012</td>\n",
              "      <td>1</td>\n",
              "      <td>1</td>\n",
              "      <td>3</td>\n",
              "      <td>1</td>\n",
              "      <td>3</td>\n",
              "      <td>0</td>\n",
              "      <td>0</td>\n",
              "      <td>0</td>\n",
              "      <td>0</td>\n",
              "      <td>0</td>\n",
              "      <td>0</td>\n",
              "      <td>0.0</td>\n",
              "      <td>0.000</td>\n",
              "    </tr>\n",
              "    <tr>\n",
              "      <th>2012-01-04</th>\n",
              "      <td>27.40</td>\n",
              "      <td>2012</td>\n",
              "      <td>1</td>\n",
              "      <td>1</td>\n",
              "      <td>4</td>\n",
              "      <td>2</td>\n",
              "      <td>4</td>\n",
              "      <td>0</td>\n",
              "      <td>0</td>\n",
              "      <td>0</td>\n",
              "      <td>0</td>\n",
              "      <td>0</td>\n",
              "      <td>0</td>\n",
              "      <td>0.0</td>\n",
              "      <td>27.080</td>\n",
              "    </tr>\n",
              "    <tr>\n",
              "      <th>2012-01-05</th>\n",
              "      <td>27.68</td>\n",
              "      <td>2012</td>\n",
              "      <td>1</td>\n",
              "      <td>1</td>\n",
              "      <td>5</td>\n",
              "      <td>3</td>\n",
              "      <td>5</td>\n",
              "      <td>0</td>\n",
              "      <td>0</td>\n",
              "      <td>0</td>\n",
              "      <td>0</td>\n",
              "      <td>0</td>\n",
              "      <td>0</td>\n",
              "      <td>0.0</td>\n",
              "      <td>27.280</td>\n",
              "    </tr>\n",
              "    <tr>\n",
              "      <th>2012-01-06</th>\n",
              "      <td>28.10</td>\n",
              "      <td>2012</td>\n",
              "      <td>1</td>\n",
              "      <td>1</td>\n",
              "      <td>6</td>\n",
              "      <td>4</td>\n",
              "      <td>6</td>\n",
              "      <td>0</td>\n",
              "      <td>0</td>\n",
              "      <td>0</td>\n",
              "      <td>0</td>\n",
              "      <td>0</td>\n",
              "      <td>0</td>\n",
              "      <td>0.0</td>\n",
              "      <td>27.485</td>\n",
              "    </tr>\n",
              "    <tr>\n",
              "      <th>2012-01-09</th>\n",
              "      <td>27.74</td>\n",
              "      <td>2012</td>\n",
              "      <td>1</td>\n",
              "      <td>2</td>\n",
              "      <td>9</td>\n",
              "      <td>0</td>\n",
              "      <td>9</td>\n",
              "      <td>0</td>\n",
              "      <td>0</td>\n",
              "      <td>0</td>\n",
              "      <td>0</td>\n",
              "      <td>0</td>\n",
              "      <td>0</td>\n",
              "      <td>0.0</td>\n",
              "      <td>27.536</td>\n",
              "    </tr>\n",
              "  </tbody>\n",
              "</table>\n",
              "</div>"
            ],
            "text/plain": [
              "            Close  Year  ...  Monthly_moving_average  Expanding_mean\n",
              "Date                     ...                                        \n",
              "2012-01-03  26.76  2012  ...                     0.0           0.000\n",
              "2012-01-04  27.40  2012  ...                     0.0          27.080\n",
              "2012-01-05  27.68  2012  ...                     0.0          27.280\n",
              "2012-01-06  28.10  2012  ...                     0.0          27.485\n",
              "2012-01-09  27.74  2012  ...                     0.0          27.536\n",
              "\n",
              "[5 rows x 15 columns]"
            ]
          },
          "metadata": {
            "tags": []
          },
          "execution_count": 3
        }
      ]
    },
    {
      "cell_type": "markdown",
      "metadata": {
        "id": "KzvzxIITJkrr"
      },
      "source": [
        "### Splitting Data\n",
        "\n",
        "We will use the last year as our validation data and train the model based on the past data. Basically we will generate one year of stock market data based on historical data of the previous five years."
      ]
    },
    {
      "cell_type": "code",
      "metadata": {
        "id": "jgPPc2O_Jkrs"
      },
      "source": [
        "#Training set\n",
        "train = new_data[ : '2017-01-01']\n",
        "\n",
        "#Validation set\n",
        "val = new_data['2017-01-01' : ]"
      ],
      "execution_count": 4,
      "outputs": []
    },
    {
      "cell_type": "markdown",
      "metadata": {
        "id": "-CL9_h3CJkrz"
      },
      "source": [
        "## Model Building"
      ]
    },
    {
      "cell_type": "markdown",
      "metadata": {
        "id": "kwlvPGfI83Sn"
      },
      "source": [
        "**First we will test on two base-line models with our dataset.**\n",
        "\n",
        "- **Linear regression**\n",
        "- **K-Nearest Neighbors**\n",
        "\n",
        "\n",
        "After this we will move on to some advanced models."
      ]
    },
    {
      "cell_type": "code",
      "metadata": {
        "id": "XzmyvwBP82uN"
      },
      "source": [
        "# Splitting into x and y sets\n",
        "\n",
        "x_train = train.drop('Close', axis=1)\n",
        "y_train = train['Close']\n",
        "\n",
        "x_val = val.drop('Close', axis=1)\n",
        "y_val = val['Close']\n"
      ],
      "execution_count": 5,
      "outputs": []
    },
    {
      "cell_type": "code",
      "metadata": {
        "id": "yTzMLSOuC4P0"
      },
      "source": [
        "#Scaling the data\n",
        "\n",
        "from sklearn.preprocessing import MinMaxScaler\n",
        "\n",
        "scaler = MinMaxScaler(feature_range=(0, 1))\n",
        "\n",
        "x_train_scaled = scaler.fit_transform(x_train)\n",
        "\n",
        "#Not fitting validation set as it will cause data leakage\n",
        "x_val_scaled = scaler.transform(x_val)"
      ],
      "execution_count": 6,
      "outputs": []
    },
    {
      "cell_type": "markdown",
      "metadata": {
        "id": "fM_m2Rvq_OTw"
      },
      "source": [
        "### 1. Linear Regression"
      ]
    },
    {
      "cell_type": "markdown",
      "metadata": {
        "id": "tWcck9mG_d2r"
      },
      "source": [
        "The most basic machine learning algorithm that can be implemented on this data is linear regression. The linear regression model returns an equation that determines the relationship between the independent variables and the dependent variable.\n",
        "\n",
        "The equation for linear regression can be written as:\n",
        "\n",
        "<center><img src = 'images/linear_regression.png' height = 200 ></center>"
      ]
    },
    {
      "cell_type": "code",
      "metadata": {
        "id": "ruRuew4a_NYM",
        "outputId": "81f23ec5-e88e-4b1d-b7e7-51164a467c7d",
        "colab": {
          "base_uri": "https://localhost:8080/",
          "height": 34
        }
      },
      "source": [
        "from sklearn.linear_model import LinearRegression\n",
        "\n",
        "lr = LinearRegression()\n",
        "\n",
        "lr.fit(x_train_scaled, y_train)"
      ],
      "execution_count": 7,
      "outputs": [
        {
          "output_type": "execute_result",
          "data": {
            "text/plain": [
              "LinearRegression(copy_X=True, fit_intercept=True, n_jobs=None, normalize=False)"
            ]
          },
          "metadata": {
            "tags": []
          },
          "execution_count": 7
        }
      ]
    },
    {
      "cell_type": "code",
      "metadata": {
        "id": "afkgcYDh_Nex",
        "outputId": "b5f77a8a-c755-48cd-e2f7-95c7aa13761a",
        "colab": {
          "base_uri": "https://localhost:8080/",
          "height": 34
        }
      },
      "source": [
        "prediction = lr.predict(x_val_scaled)\n",
        "\n",
        "regression_forecast = pd.DataFrame(prediction, index = val.index, columns = ['Prediction'])\n",
        "\n",
        "rmse = np.sqrt(mean_squared_error(y_val, regression_forecast['Prediction']))# Calculating the root-mean squared error\n",
        "\n",
        "print(rmse)"
      ],
      "execution_count": 8,
      "outputs": [
        {
          "output_type": "stream",
          "text": [
            "9.235566852555191\n"
          ],
          "name": "stdout"
        }
      ]
    },
    {
      "cell_type": "markdown",
      "metadata": {
        "id": "IV11JGgdBTv3"
      },
      "source": [
        "The RMSE score for our Linear model is quite good. Let's plot it against the actual validation set."
      ]
    },
    {
      "cell_type": "code",
      "metadata": {
        "id": "DfNqEavP_Nig",
        "outputId": "7f920d4c-4286-4cea-85f3-8f924803fb83",
        "colab": {
          "base_uri": "https://localhost:8080/",
          "height": 428
        }
      },
      "source": [
        "plt.figure(figsize = (15,7))\n",
        "plt.plot(train['Close'])\n",
        "plt.plot(val['Close'])\n",
        "plt.plot(regression_forecast['Prediction'])\n",
        "plt.show()"
      ],
      "execution_count": 9,
      "outputs": [
        {
          "output_type": "display_data",
          "data": {
            "image/png": "[encoded data removed]",
            "text/plain": [
              "<Figure size 1080x504 with 1 Axes>"
            ]
          },
          "metadata": {
            "tags": [],
            "needs_background": "light"
          }
        }
      ]
    },
    {
      "cell_type": "markdown",
      "metadata": {
        "id": "8BF9Ajb7B-VO"
      },
      "source": [
        "Linear regression is a simple technique and quite easy to interpret.\n",
        "\n",
        "It has caught the rising trend of the stock price but fails to capture the seasonality. Instead of taking into account the previous values from the point of prediction, the model will consider the value from the same date a month ago, or the same date/month a year ago."
      ]
    },
    {
      "cell_type": "markdown",
      "metadata": {
        "id": "DIkHP3BtCQju"
      },
      "source": [
        "### 2. K-Nearest Neighbors\n",
        "\n"
      ]
    },
    {
      "cell_type": "markdown",
      "metadata": {
        "id": "rcgZmk-PCZp3"
      },
      "source": [
        "Another interesting base-line algorithm that can be used in time-series datasets is KNN (K-Nearest Neighbours). \n",
        "\n",
        "Based on the independent variables, kNN finds the similarity between new data points and old data points."
      ]
    },
    {
      "cell_type": "code",
      "metadata": {
        "id": "hKmirw_wCZ6l",
        "outputId": "a61f5c72-aa3d-4e23-8c31-947e16632671",
        "colab": {
          "base_uri": "https://localhost:8080/",
          "height": 67
        }
      },
      "source": [
        "from sklearn.neighbors import KNeighborsRegressor\n",
        "\n",
        "knn = KNeighborsRegressor(n_neighbors = 5)\n",
        "\n",
        "knn.fit(x_train_scaled, y_train)"
      ],
      "execution_count": 10,
      "outputs": [
        {
          "output_type": "execute_result",
          "data": {
            "text/plain": [
              "KNeighborsRegressor(algorithm='auto', leaf_size=30, metric='minkowski',\n",
              "                    metric_params=None, n_jobs=None, n_neighbors=5, p=2,\n",
              "                    weights='uniform')"
            ]
          },
          "metadata": {
            "tags": []
          },
          "execution_count": 10
        }
      ]
    },
    {
      "cell_type": "code",
      "metadata": {
        "id": "qU1bPS_HCZ-7",
        "outputId": "a7db9f9a-933e-4621-8e97-7d7de2fc99d8",
        "colab": {
          "base_uri": "https://localhost:8080/",
          "height": 34
        }
      },
      "source": [
        "prediction = knn.predict(x_val_scaled)\n",
        "\n",
        "knn_forecast = pd.DataFrame(prediction, index = val.index, columns = ['Prediction'])\n",
        "\n",
        "rmse = np.sqrt(mean_squared_error(y_val, knn_forecast['Prediction']))# Calculating the root-mean squared error\n",
        "\n",
        "print(rmse)"
      ],
      "execution_count": 11,
      "outputs": [
        {
          "output_type": "stream",
          "text": [
            "17.170670586741984\n"
          ],
          "name": "stdout"
        }
      ]
    },
    {
      "cell_type": "markdown",
      "metadata": {
        "id": "Il5SVVNJEWSm"
      },
      "source": [
        "The RMSE score of our KNN algorithm is higher than Linear Regression. Let's plot it against the validation data."
      ]
    },
    {
      "cell_type": "code",
      "metadata": {
        "id": "bI99hqM-CaGR",
        "outputId": "dddc7fb9-591c-40b5-d3b4-103d0df6a782",
        "colab": {
          "base_uri": "https://localhost:8080/",
          "height": 428
        }
      },
      "source": [
        "plt.figure(figsize = (15,7))\n",
        "plt.plot(train['Close'])\n",
        "plt.plot(val['Close'])\n",
        "plt.plot(knn_forecast['Prediction'])\n",
        "plt.show()"
      ],
      "execution_count": 12,
      "outputs": [
        {
          "output_type": "display_data",
          "data": {
            "image/png": "[encoded data removed]",
            "text/plain": [
              "<Figure size 1080x504 with 1 Axes>"
            ]
          },
          "metadata": {
            "tags": [],
            "needs_background": "light"
          }
        }
      ]
    },
    {
      "cell_type": "markdown",
      "metadata": {
        "id": "UrJNWLlOEtrH"
      },
      "source": [
        "Just like Linear Regression, KNN also failed to capture the seasonality. It has just captured the increasing trend according to past data.\n",
        "\n"
      ]
    },
    {
      "cell_type": "markdown",
      "metadata": {
        "id": "b71NXHYME5SK"
      },
      "source": [
        "In coclusion , regression algorithms doesn't quite perform on time-series data and hence we need to apply some other advanced models and techniques."
      ]
    },
    {
      "cell_type": "markdown",
      "metadata": {
        "id": "Z-cLLDDKFE3z"
      },
      "source": [
        "#####   "
      ]
    },
    {
      "cell_type": "markdown",
      "metadata": {
        "id": "BRA_xhBWJkr0"
      },
      "source": [
        "**Now, We are going to test three models that are specifically designed for time-series analysis and prediction.**\n",
        "\n",
        "- **Auto ARIMA (Autoregressive integrated moving average)**\n",
        "- **Prophet**\n",
        "- **LSTM (Long-Short term Memory)**\n",
        "\n",
        "\n",
        "**The Evaluation metric for our models will be 'Root-Mean Squared Error'**"
      ]
    },
    {
      "cell_type": "markdown",
      "metadata": {
        "id": "ZpxrD_vTJkr0"
      },
      "source": [
        "### 1. Auto ARIMA\n",
        "\n",
        "ARIMA models take into account the past values to predict the future values.\n",
        "\n",
        "Parameter tuning for ARIMA is time consuming. So we will use Auto ARIMA which automatically selects the best combination of (p,q,d) that provides the least error.\n",
        "\n",
        "**Q. What are p, q, d?**\n",
        "\n",
        "- p (past values used for forecasting the next value)\n",
        "- q (past forecast errors used to predict the future values)\n",
        "- d (order of differencing)\n",
        "\n",
        "[Here](https://datafai.com/auto-arima-using-pyramid-arima-python-package/) is great article on implementation of Auto-Arima."
      ]
    },
    {
      "cell_type": "code",
      "metadata": {
        "id": "gEC9X9RG0Nyl"
      },
      "source": [
        "training = train['Close']\n",
        "validation = val['Close']"
      ],
      "execution_count": 13,
      "outputs": []
    },
    {
      "cell_type": "markdown",
      "metadata": {
        "id": "bVhSnjQWWAec"
      },
      "source": [
        "If the following import gives an error, just run !pip install pyramid-arima to install the relevant dependencies."
      ]
    },
    {
      "cell_type": "code",
      "metadata": {
        "id": "IXd8w4HNJkr1",
        "outputId": "0eaf0013-7c93-4cb6-bc7d-c97a1a6a7195",
        "colab": {
          "base_uri": "https://localhost:8080/",
          "height": 252
        }
      },
      "source": [
        "from pyramid.arima import auto_arima\n",
        "\n",
        "arima = auto_arima(training, start_p=1, start_q=1,max_p=3, max_q=3, m=12,start_P=0, seasonal=True,d=1, D=1, trace=True,error_action='ignore',suppress_warnings=True)\n",
        "\"\"\"\n",
        "Model within ranges of defined start_p, max_p, start_q, max_q ranges. Auto ARIMA finds the best combination within this range.\n",
        "Seasonal = True means that the given time-series subjects to seasonal trend.\n",
        "\n",
        "\"\"\"\n",
        "\n",
        "arima.fit(training)\n",
        "\n",
        "prediction = arima.predict(n_periods = val.shape[0]) # Predicting one year of values"
      ],
      "execution_count": 14,
      "outputs": [
        {
          "output_type": "stream",
          "text": [
            "Fit ARIMA: order=(1, 1, 1) seasonal_order=(0, 1, 1, 12); AIC=2409.526, BIC=2435.160, Fit time=27.636 seconds\n",
            "Fit ARIMA: order=(0, 1, 0) seasonal_order=(0, 1, 0, 12); AIC=3232.928, BIC=3243.181, Fit time=0.400 seconds\n",
            "Fit ARIMA: order=(1, 1, 0) seasonal_order=(1, 1, 0, 12); AIC=2862.235, BIC=2882.743, Fit time=2.740 seconds\n",
            "Fit ARIMA: order=(0, 1, 1) seasonal_order=(0, 1, 1, 12); AIC=2411.667, BIC=2432.175, Fit time=11.444 seconds\n",
            "Fit ARIMA: order=(1, 1, 1) seasonal_order=(1, 1, 1, 12); AIC=2415.471, BIC=2446.232, Fit time=18.927 seconds\n",
            "Fit ARIMA: order=(1, 1, 1) seasonal_order=(0, 1, 0, 12); AIC=3172.530, BIC=3193.037, Fit time=5.864 seconds\n",
            "Fit ARIMA: order=(1, 1, 1) seasonal_order=(0, 1, 2, 12); AIC=2411.286, BIC=2442.047, Fit time=54.079 seconds\n",
            "Fit ARIMA: order=(1, 1, 1) seasonal_order=(1, 1, 2, 12); AIC=2417.777, BIC=2453.665, Fit time=51.250 seconds\n",
            "Fit ARIMA: order=(2, 1, 1) seasonal_order=(0, 1, 1, 12); AIC=2409.745, BIC=2440.506, Fit time=19.704 seconds\n",
            "Fit ARIMA: order=(1, 1, 0) seasonal_order=(0, 1, 1, 12); AIC=2411.670, BIC=2432.177, Fit time=9.969 seconds\n",
            "Fit ARIMA: order=(1, 1, 2) seasonal_order=(0, 1, 1, 12); AIC=2409.950, BIC=2440.711, Fit time=22.303 seconds\n",
            "Fit ARIMA: order=(0, 1, 0) seasonal_order=(0, 1, 1, 12); AIC=2409.842, BIC=2425.222, Fit time=9.584 seconds\n",
            "Fit ARIMA: order=(2, 1, 2) seasonal_order=(0, 1, 1, 12); AIC=2411.438, BIC=2447.326, Fit time=23.619 seconds\n",
            "Total fit time: 257.528 seconds\n"
          ],
          "name": "stdout"
        }
      ]
    },
    {
      "cell_type": "code",
      "metadata": {
        "id": "ed9v6ayj2gR1",
        "outputId": "2e772131-20e2-4093-d568-9ebc077cd87b",
        "colab": {
          "base_uri": "https://localhost:8080/",
          "height": 34
        }
      },
      "source": [
        "arima_forecast = pd.DataFrame(prediction, index = val.index, columns = ['Prediction'])\n",
        "\n",
        "rmse = np.sqrt(mean_squared_error(val['Close'], arima_forecast['Prediction']))# Calculating the root-mean squared error\n",
        "\n",
        "print(rmse)"
      ],
      "execution_count": 15,
      "outputs": [
        {
          "output_type": "stream",
          "text": [
            "6.354760006177382\n"
          ],
          "name": "stdout"
        }
      ]
    },
    {
      "cell_type": "markdown",
      "metadata": {
        "id": "xF1qbJIZ4QdY"
      },
      "source": [
        "The RMSE score of our Auto ARIMA model is quite good. Let's plot the values against our validation data, i.e one year of stock data."
      ]
    },
    {
      "cell_type": "code",
      "metadata": {
        "id": "0R9vkLMP4Kcd",
        "outputId": "7138b4fe-ec45-4ed1-f6f2-a57a18d04845",
        "colab": {
          "base_uri": "https://localhost:8080/",
          "height": 428
        }
      },
      "source": [
        "plt.figure(figsize = (15,7))\n",
        "plt.plot(train['Close'])\n",
        "plt.plot(val['Close'])\n",
        "plt.plot(arima_forecast['Prediction'])\n",
        "plt.show()"
      ],
      "execution_count": 16,
      "outputs": [
        {
          "output_type": "display_data",
          "data": {
            "image/png": "[encoded data removed]",
            "text/plain": [
              "<Figure size 1080x504 with 1 Axes>"
            ]
          },
          "metadata": {
            "tags": [],
            "needs_background": "light"
          }
        }
      ]
    },
    {
      "cell_type": "markdown",
      "metadata": {
        "id": "pp5UlBt74_9_"
      },
      "source": [
        "As said earlier, an auto ARIMA model uses past data to understand the pattern in the time series. Using these values, the model captured an increasing trend in the series, but does not focus on the seasonal part. "
      ]
    },
    {
      "cell_type": "markdown",
      "metadata": {
        "id": "4FQTdoem5TzJ"
      },
      "source": [
        "### 2. Prophet"
      ]
    },
    {
      "cell_type": "markdown",
      "metadata": {
        "id": "Ni9VNO-8FNkl"
      },
      "source": [
        "Prophet, designed and pioneered by Facebook, is a time series forecasting library that requires no data preprocessing and is extremely simple to implement.\n",
        "\n",
        "Prophet tries to capture the seasonality in the past data and works well when the dataset is large.\n",
        "\n",
        "Learn more about Prophet by visiting this [link](https://towardsdatascience.com/a-quick-start-of-time-series-forecasting-with-a-practical-example-using-fb-prophet-31c4447a2274)."
      ]
    },
    {
      "cell_type": "code",
      "metadata": {
        "id": "O_u9mJxR4mas",
        "outputId": "15180751-11b2-45cc-ee7d-cd2052b27e93",
        "colab": {
          "base_uri": "https://localhost:8080/",
          "height": 67
        }
      },
      "source": [
        "from fbprophet import Prophet\n",
        "\n",
        "\"\"\"\n",
        "Prophet model expects the dataframe to have two columns \n",
        "1. The target variable(in our case 'Close')\n",
        "2. The Date column\n",
        "\n",
        "Both these columns need to have a specific name for this model to work.\n",
        "\n",
        "Date = ds, target = y\n",
        "\n",
        "\"\"\"\n",
        "\n",
        "df = pd.DataFrame(columns=['Date', 'Close']) #Creating new dataframe\n",
        "\n",
        "df['Date'] = new_data.index.values\n",
        "df['Close'] = new_data['Close'].values\n",
        "df.index = df.Date\n",
        "\n",
        "df.rename(columns={'Close': 'y', 'Date': 'ds'}, inplace=True)# Renaming according to model usage\n",
        "\n",
        "#train and validation\n",
        "df_train = df[:'2017-01-01']\n",
        "df_valid = df['2017-01-01':]\n",
        "\n",
        "# Model training\n",
        "prophet = Prophet()\n",
        "\n",
        "prophet.fit(df_train)"
      ],
      "execution_count": 17,
      "outputs": [
        {
          "output_type": "stream",
          "text": [
            "INFO:numexpr.utils:NumExpr defaulting to 2 threads.\n",
            "INFO:fbprophet:Disabling daily seasonality. Run prophet with daily_seasonality=True to override this.\n"
          ],
          "name": "stderr"
        },
        {
          "output_type": "execute_result",
          "data": {
            "text/plain": [
              "<fbprophet.forecaster.Prophet at 0x7f330eea22b0>"
            ]
          },
          "metadata": {
            "tags": []
          },
          "execution_count": 17
        }
      ]
    },
    {
      "cell_type": "code",
      "metadata": {
        "id": "ZNR1Vceg6Ba0"
      },
      "source": [
        "prophet_forecast = prophet.make_future_dataframe(periods=len(df_valid))\n",
        "\n",
        "predictions = prophet.predict(prophet_forecast)"
      ],
      "execution_count": 18,
      "outputs": []
    },
    {
      "cell_type": "code",
      "metadata": {
        "id": "SBnDcZVY9cMy",
        "outputId": "0c44ca94-6c20-4ffb-aef2-1ec9cd299348",
        "colab": {
          "base_uri": "https://localhost:8080/",
          "height": 206
        }
      },
      "source": [
        "predictions.head(3)"
      ],
      "execution_count": 19,
      "outputs": [
        {
          "output_type": "execute_result",
          "data": {
            "text/html": [
              "<div>\n",
              "<style scoped>\n",
              "    .dataframe tbody tr th:only-of-type {\n",
              "        vertical-align: middle;\n",
              "    }\n",
              "\n",
              "    .dataframe tbody tr th {\n",
              "        vertical-align: top;\n",
              "    }\n",
              "\n",
              "    .dataframe thead th {\n",
              "        text-align: right;\n",
              "    }\n",
              "</style>\n",
              "<table border=\"1\" class=\"dataframe\">\n",
              "  <thead>\n",
              "    <tr style=\"text-align: right;\">\n",
              "      <th></th>\n",
              "      <th>ds</th>\n",
              "      <th>trend</th>\n",
              "      <th>yhat_lower</th>\n",
              "      <th>yhat_upper</th>\n",
              "      <th>trend_lower</th>\n",
              "      <th>trend_upper</th>\n",
              "      <th>additive_terms</th>\n",
              "      <th>additive_terms_lower</th>\n",
              "      <th>additive_terms_upper</th>\n",
              "      <th>weekly</th>\n",
              "      <th>weekly_lower</th>\n",
              "      <th>weekly_upper</th>\n",
              "      <th>yearly</th>\n",
              "      <th>yearly_lower</th>\n",
              "      <th>yearly_upper</th>\n",
              "      <th>multiplicative_terms</th>\n",
              "      <th>multiplicative_terms_lower</th>\n",
              "      <th>multiplicative_terms_upper</th>\n",
              "      <th>yhat</th>\n",
              "    </tr>\n",
              "  </thead>\n",
              "  <tbody>\n",
              "    <tr>\n",
              "      <th>0</th>\n",
              "      <td>2012-01-03</td>\n",
              "      <td>29.762365</td>\n",
              "      <td>29.237051</td>\n",
              "      <td>33.233681</td>\n",
              "      <td>29.762365</td>\n",
              "      <td>29.762365</td>\n",
              "      <td>1.585125</td>\n",
              "      <td>1.585125</td>\n",
              "      <td>1.585125</td>\n",
              "      <td>0.603235</td>\n",
              "      <td>0.603235</td>\n",
              "      <td>0.603235</td>\n",
              "      <td>0.981890</td>\n",
              "      <td>0.981890</td>\n",
              "      <td>0.981890</td>\n",
              "      <td>0.0</td>\n",
              "      <td>0.0</td>\n",
              "      <td>0.0</td>\n",
              "      <td>31.347489</td>\n",
              "    </tr>\n",
              "    <tr>\n",
              "      <th>1</th>\n",
              "      <td>2012-01-04</td>\n",
              "      <td>29.778951</td>\n",
              "      <td>29.175302</td>\n",
              "      <td>33.398794</td>\n",
              "      <td>29.778951</td>\n",
              "      <td>29.778951</td>\n",
              "      <td>1.470845</td>\n",
              "      <td>1.470845</td>\n",
              "      <td>1.470845</td>\n",
              "      <td>0.623132</td>\n",
              "      <td>0.623132</td>\n",
              "      <td>0.623132</td>\n",
              "      <td>0.847712</td>\n",
              "      <td>0.847712</td>\n",
              "      <td>0.847712</td>\n",
              "      <td>0.0</td>\n",
              "      <td>0.0</td>\n",
              "      <td>0.0</td>\n",
              "      <td>31.249796</td>\n",
              "    </tr>\n",
              "    <tr>\n",
              "      <th>2</th>\n",
              "      <td>2012-01-05</td>\n",
              "      <td>29.795538</td>\n",
              "      <td>29.015020</td>\n",
              "      <td>33.207850</td>\n",
              "      <td>29.795538</td>\n",
              "      <td>29.795538</td>\n",
              "      <td>1.341740</td>\n",
              "      <td>1.341740</td>\n",
              "      <td>1.341740</td>\n",
              "      <td>0.624815</td>\n",
              "      <td>0.624815</td>\n",
              "      <td>0.624815</td>\n",
              "      <td>0.716925</td>\n",
              "      <td>0.716925</td>\n",
              "      <td>0.716925</td>\n",
              "      <td>0.0</td>\n",
              "      <td>0.0</td>\n",
              "      <td>0.0</td>\n",
              "      <td>31.137278</td>\n",
              "    </tr>\n",
              "  </tbody>\n",
              "</table>\n",
              "</div>"
            ],
            "text/plain": [
              "          ds      trend  ...  multiplicative_terms_upper       yhat\n",
              "0 2012-01-03  29.762365  ...                         0.0  31.347489\n",
              "1 2012-01-04  29.778951  ...                         0.0  31.249796\n",
              "2 2012-01-05  29.795538  ...                         0.0  31.137278\n",
              "\n",
              "[3 rows x 19 columns]"
            ]
          },
          "metadata": {
            "tags": []
          },
          "execution_count": 19
        }
      ]
    },
    {
      "cell_type": "code",
      "metadata": {
        "id": "vNG6qMhi8_SD"
      },
      "source": [
        "prophet_forecast['y'] = predictions['yhat']"
      ],
      "execution_count": 20,
      "outputs": []
    },
    {
      "cell_type": "code",
      "metadata": {
        "id": "WyDV30Sy94tD",
        "outputId": "fd5063e4-24d9-4655-ecec-1399d39a4488",
        "colab": {
          "base_uri": "https://localhost:8080/",
          "height": 34
        }
      },
      "source": [
        "rmse = np.sqrt(mean_squared_error(val['Close'], prophet_forecast['y'][-len(val):]))# Calculating the root-mean squared error\n",
        "\n",
        "print(rmse)"
      ],
      "execution_count": 21,
      "outputs": [
        {
          "output_type": "stream",
          "text": [
            "12.832206276340557\n"
          ],
          "name": "stdout"
        }
      ]
    },
    {
      "cell_type": "markdown",
      "metadata": {
        "id": "xRxJ_smX-TxU"
      },
      "source": [
        "The RMSE score of our Prophet model is a bit higher than ARIMA Model. Let's plot it to see the difference."
      ]
    },
    {
      "cell_type": "code",
      "metadata": {
        "id": "JitlrDg--GdJ",
        "outputId": "a7f32080-7de4-429d-a599-8bb0781d4b40",
        "colab": {
          "base_uri": "https://localhost:8080/",
          "height": 428
        }
      },
      "source": [
        "prophet_forecast = prophet_forecast[-len(val):]\n",
        "df_valid['Predictions'] = prophet_forecast['y'].values\n",
        "\n",
        "plt.figure(figsize = (15,7))\n",
        "plt.plot(train['Close'])\n",
        "plt.plot(val['Close'])\n",
        "plt.plot(df_valid['Predictions'])\n",
        "plt.show()"
      ],
      "execution_count": 22,
      "outputs": [
        {
          "output_type": "display_data",
          "data": {
            "image/png": "[encoded data removed]",
            "text/plain": [
              "<Figure size 1080x504 with 1 Axes>"
            ]
          },
          "metadata": {
            "tags": [],
            "needs_background": "light"
          }
        }
      ]
    },
    {
      "cell_type": "markdown",
      "metadata": {
        "id": "_KBcgjspCdO1"
      },
      "source": [
        "Prophet (like most time series forecasting techniques) tries to capture the trend and seasonality from past data.\n",
        "\n",
        "Stock prices do not have a particular trend or seasonality. It highly depends on what is currently going on in the market and thus the prices rise and fall. Hence forecasting techniques like ARIMA and Prophet would not perform well for this particular problem."
      ]
    },
    {
      "cell_type": "markdown",
      "metadata": {
        "id": "pG1zsOcxCxIY"
      },
      "source": [
        "### 3. Long Short Term Memory (LSTM)\n",
        "\n",
        "LSTM is a neural network technique to predict sequences.\n",
        "\n",
        "LSTMs are widely used for sequence prediction problems and have proven to be extremely effective. The reason they work so well is because LSTM is able to store past information that is important, and forget the information that is not.\n",
        "\n",
        "It has three main gates:\n",
        "\n",
        "- **Input gate: The input gate adds information to the cell state**\n",
        "- **Forget gate: It removes the information that is no longer required by the model**\n",
        "- **Output gate: Output Gate at LSTM selects the information to be shown as output**\n",
        "\n",
        "Learn more about LSTM's in this wonderful [article](https://www.analyticsvidhya.com/blog/2017/12/fundamentals-of-deep-learning-introduction-to-lstm/)."
      ]
    },
    {
      "cell_type": "markdown",
      "metadata": {
        "id": "a3oeohMqC7vQ"
      },
      "source": [
        "#### Scaling the data"
      ]
    },
    {
      "cell_type": "code",
      "metadata": {
        "id": "FDCd_3WzACD9"
      },
      "source": [
        "from sklearn.preprocessing import MinMaxScaler\n",
        "\n",
        "data_close = new_data['Close'].values\n",
        "\n",
        "scaler = MinMaxScaler(feature_range=(0, 1))\n",
        "\n",
        "scaled_data = scaler.fit_transform(data_close.reshape(-1,1)) "
      ],
      "execution_count": 23,
      "outputs": []
    },
    {
      "cell_type": "markdown",
      "metadata": {
        "id": "tLxG_WCgDIrj"
      },
      "source": [
        "#### Splitting the data"
      ]
    },
    {
      "cell_type": "code",
      "metadata": {
        "id": "iG9pcPHTDL-y"
      },
      "source": [
        "# Creating x_train and y_train\n",
        "\n",
        "\"\"\"\n",
        "Will take past 90 days of data to predict the 91th day stock price.\n",
        "\"\"\"\n",
        "\n",
        "x_train, y_train = [], []\n",
        "\n",
        "for i in range(90,len(train)):\n",
        "\n",
        "    x_train.append(scaled_data[i-90:i])\n",
        "    y_train.append(scaled_data[i])\n",
        "\n",
        "x_train, y_train = np.array(x_train), np.array(y_train) # Converting to numpy array\n",
        "\n",
        "x_train = np.reshape(x_train, (x_train.shape[0],x_train.shape[1],1)) # Reshaping\n"
      ],
      "execution_count": 24,
      "outputs": []
    },
    {
      "cell_type": "markdown",
      "metadata": {
        "id": "AOlGCIr-ZbO5"
      },
      "source": [
        "#### Training Model"
      ]
    },
    {
      "cell_type": "code",
      "metadata": {
        "id": "1eICm5PaZalu",
        "outputId": "2aeac0a1-7f7e-46d5-8f75-09793554cbb3",
        "colab": {
          "base_uri": "https://localhost:8080/",
          "height": 202
        }
      },
      "source": [
        "import tensorflow as tf\n",
        "from tensorflow.keras.models import Sequential\n",
        "from tensorflow.keras.layers import Dense, Dropout, LSTM\n",
        "from tensorflow.keras.optimizers import Adam\n",
        "from tensorflow.keras.callbacks import EarlyStopping\n",
        "\n",
        "model = Sequential()\n",
        "\n",
        "#1st Layer\n",
        "model.add(LSTM(units=50, return_sequences=True, input_shape=(x_train.shape[1],1)))\n",
        "\n",
        "#2nd layer\n",
        "model.add(LSTM(units=50))\n",
        "model.add(Dropout(0.3))\n",
        "\n",
        "#Output layer\n",
        "model.add(Dense(1))\n",
        "\n",
        "#Model compilation\n",
        "adam = Adam(lr = 0.01, beta_1 = 0.99, epsilon = 1e-7)\n",
        "model.compile(loss = 'mean_squared_error', optimizer = adam)\n",
        "\n",
        "early_stopping = EarlyStopping(monitor = 'loss', patience = 2)\n",
        "#Training\n",
        "model.fit(x_train, y_train, epochs = 10, batch_size=1, callbacks =[early_stopping], verbose=1)"
      ],
      "execution_count": 25,
      "outputs": [
        {
          "output_type": "stream",
          "text": [
            "Epoch 1/10\n",
            "1168/1168 [==============================] - 9s 8ms/step - loss: 0.0044\n",
            "Epoch 2/10\n",
            "1168/1168 [==============================] - 9s 8ms/step - loss: 0.0013\n",
            "Epoch 3/10\n",
            "1168/1168 [==============================] - 9s 8ms/step - loss: 0.0012\n",
            "Epoch 4/10\n",
            "1168/1168 [==============================] - 9s 8ms/step - loss: 0.0014\n",
            "Epoch 5/10\n",
            "1168/1168 [==============================] - 9s 8ms/step - loss: 0.0012\n"
          ],
          "name": "stdout"
        },
        {
          "output_type": "execute_result",
          "data": {
            "text/plain": [
              "<tensorflow.python.keras.callbacks.History at 0x7f327e172a58>"
            ]
          },
          "metadata": {
            "tags": []
          },
          "execution_count": 25
        }
      ]
    },
    {
      "cell_type": "markdown",
      "metadata": {
        "id": "bewXnN51ltcd"
      },
      "source": [
        "#### Predicting validation data using 90 days of past data"
      ]
    },
    {
      "cell_type": "code",
      "metadata": {
        "id": "IvaoLpcFZM99"
      },
      "source": [
        "# Creating a seperate dataframe\n",
        "inputs = new_data['Close'][len(new_data) - len(val) - 90:].values\n",
        "inputs = inputs.reshape(-1,1)\n",
        "inputs  = scaler.transform(inputs)\n",
        "\n",
        "#Generating validation data\n",
        "x_val = []\n",
        "for i in range(90,inputs.shape[0]):\n",
        "    x_val.append(inputs[i-90:i])\n",
        "\n",
        "x_val = np.array(x_val)\n",
        "\n",
        "x_val = np.reshape(x_val, (x_val.shape[0],x_val.shape[1],1))\n",
        "\n",
        "#Predicting validation data\n",
        "predictions = model.predict(x_val)\n",
        "predictions = scaler.inverse_transform(predictions)"
      ],
      "execution_count": 26,
      "outputs": []
    },
    {
      "cell_type": "code",
      "metadata": {
        "id": "vwVsj_31mhJV",
        "outputId": "c8961eb5-7430-4ba0-f957-71e04bc79c47",
        "colab": {
          "base_uri": "https://localhost:8080/",
          "height": 34
        }
      },
      "source": [
        "lstm_forecast = pd.DataFrame(predictions, index = val.index, columns = ['Prediction'])\n",
        "\n",
        "rmse = np.sqrt(mean_squared_error(val['Close'], lstm_forecast['Prediction']))# Calculating the root-mean squared error\n",
        "\n",
        "print(rmse)"
      ],
      "execution_count": 27,
      "outputs": [
        {
          "output_type": "stream",
          "text": [
            "3.5074574955199016\n"
          ],
          "name": "stdout"
        }
      ]
    },
    {
      "cell_type": "markdown",
      "metadata": {
        "id": "2oqFPuIzm_21"
      },
      "source": [
        "This is a good RMSE score for our LSTM model. Let's plot the predictions."
      ]
    },
    {
      "cell_type": "code",
      "metadata": {
        "id": "XI9izoU0m0LO",
        "outputId": "41cc72db-43a3-4528-f834-4f5f00252adb",
        "colab": {
          "base_uri": "https://localhost:8080/",
          "height": 428
        }
      },
      "source": [
        "plt.figure(figsize = (15,7))\n",
        "plt.plot(train['Close'])\n",
        "plt.plot(val['Close'])\n",
        "plt.plot(lstm_forecast['Prediction'])\n",
        "plt.show()"
      ],
      "execution_count": 28,
      "outputs": [
        {
          "output_type": "display_data",
          "data": {
            "image/png": "[encoded data removed]",
            "text/plain": [
              "<Figure size 1080x504 with 1 Axes>"
            ]
          },
          "metadata": {
            "tags": [],
            "needs_background": "light"
          }
        }
      ]
    },
    {
      "cell_type": "markdown",
      "metadata": {
        "id": "eRPIbd23HqfZ"
      },
      "source": [
        "LSTM performed really well on this dataset and was actually able to predict the correct trend of the stock prices.\n",
        "\n",
        "Stock price is affected by the news about the company and other factors like demonetization or merger/demerger of the companies. There are certain intangible factors as well which can often be impossible to predict beforehand."
      ]
    },
    {
      "cell_type": "markdown",
      "metadata": {
        "id": "tSMPbiZHKuO6"
      },
      "source": [
        "Finally, let's save our model for future use."
      ]
    },
    {
      "cell_type": "code",
      "metadata": {
        "id": "-4LDznTfKyJV"
      },
      "source": [
        "model.save('model.h5')"
      ],
      "execution_count": 29,
      "outputs": []
    }
  ]
}